{
 "cells": [
  {
   "cell_type": "markdown",
   "metadata": {},
   "source": [
    "# Just a template notebook to copypaste from"
   ]
  },
  {
   "cell_type": "code",
   "execution_count": null,
   "metadata": {
    "collapsed": true
   },
   "outputs": [],
   "source": [
    "import pylab as pl\n",
    "import pandas as pd\n",
    "#import geopandas as gd\n",
    "import numpy as np\n",
    "%pylab inline\n",
    "\n",
    "#import os\n",
    "#myPath = os.getenv ('PUI2015') # dont work for me, have no idea why\n",
    "\n",
    "import requests\n",
    "impoty zipfile\n",
    "impoty StringIO\n",
    "\n",
    "##  nice graphs design by Federika\n",
    "s = requests.get(\"https://raw.githubusercontent.com/Casyfill/CUSP_templates/master/Py/fbMatplotlibrc.json\").json()\n",
    "pl.rcParams.update(s)\n",
    "\n",
    "#impot sklearn\n",
    "#import scipy.stats"
   ]
  },
  {
   "cell_type": "markdown",
   "metadata": {},
   "source": [
    "## load data from citibyke"
   ]
  },
  {
   "cell_type": "code",
   "execution_count": null,
   "metadata": {
    "collapsed": true
   },
   "outputs": [],
   "source": [
    "#import requests, zipfile, StringIO\n",
    "\n",
    "\n",
    "def urlZipToDF(url):\n",
    "    name = url.split('/')[-1].replace('zip','csv')\n",
    "    r = requests.get(url)\n",
    "    z = zipfile.ZipFile(StringIO.StringIO(r.content))\n",
    "    csvZ = [x for x in z.namelist() if '.csv' in x][0] #simply first csv in list\n",
    "    return pd.read_csv(z.open(csvZ))\n",
    "\n",
    "\n",
    "def getCitibikeData(year, month):\n",
    "\n",
    "    url = 'https://s3.amazonaws.com/tripdata/%d%s-citibike-tripdata.zip' %(year, (\"%02d\" % month))\n",
    "#     print url\n",
    "    return urlZipToDF(url)"
   ]
  }
 ],
 "metadata": {
  "kernelspec": {
   "display_name": "Python 2",
   "language": "python",
   "name": "python2"
  },
  "language_info": {
   "codemirror_mode": {
    "name": "ipython",
    "version": 2
   },
   "file_extension": ".py",
   "mimetype": "text/x-python",
   "name": "python",
   "nbconvert_exporter": "python",
   "pygments_lexer": "ipython2",
   "version": "2.7.10"
  }
 },
 "nbformat": 4,
 "nbformat_minor": 0
}
