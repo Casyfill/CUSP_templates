{
 "cells": [
  {
   "cell_type": "code",
   "execution_count": null,
   "metadata": {
    "collapsed": true
   },
   "outputs": [],
   "source": [
    "import matplotlib.pyplot as plt\n",
    "import numpy as np\n",
    "\n",
    "def make_image(inputname,outputname):\n",
    "    # data = mpimg.imread(inputname)[:,:,0]\n",
    "    data = np.arange(1,10).reshape((3, 3))\n",
    "    fig = plt.figure()\n",
    "    fig.set_size_inches(1, 1)\n",
    "    ax = plt.Axes(fig, [0., 0., 1., 1.])\n",
    "    ax.set_axis_off()\n",
    "    fig.add_axes(ax)\n",
    "    plt.set_cmap('hot')\n",
    "    ax.imshow(data, aspect = 'normal')\n",
    "    plt.savefig(outputname, dpi = 80)\n",
    "\n",
    "make_image(None,'/tmp/out.png')"
   ]
  }
 ],
 "metadata": {
  "kernelspec": {
   "display_name": "Python 2",
   "language": "python",
   "name": "python2"
  },
  "language_info": {
   "codemirror_mode": {
    "name": "ipython",
    "version": 2
   },
   "file_extension": ".py",
   "mimetype": "text/x-python",
   "name": "python",
   "nbconvert_exporter": "python",
   "pygments_lexer": "ipython2",
   "version": "2.7.10"
  }
 },
 "nbformat": 4,
 "nbformat_minor": 0
}
