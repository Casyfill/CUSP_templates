{
 "cells": [
  {
   "cell_type": "markdown",
   "metadata": {},
   "source": [
    "#PANDAS COOKBOOK part 1"
   ]
  },
  {
   "cell_type": "markdown",
   "metadata": {},
   "source": [
    "##1. Reading"
   ]
  },
  {
   "cell_type": "code",
   "execution_count": null,
   "metadata": {
    "collapsed": true
   },
   "outputs": [],
   "source": [
    "# import pandas module and numpy\n",
    "import pandas as pd \n",
    "import numpy as np"
   ]
  },
  {
   "cell_type": "code",
   "execution_count": null,
   "metadata": {
    "collapsed": true
   },
   "outputs": [],
   "source": [
    "# reading from files\n",
    "path = \"my.csv\"\n",
    "df1 = pd.read_csv(path)\n",
    "\n",
    "#reading from excel\n",
    "df2 = pd.read_excel('my.xlsx', 'sheet1', encoding='utf-8')\n"
   ]
  },
  {
   "cell_type": "markdown",
   "metadata": {},
   "source": [
    "##2. Basic exploring"
   ]
  },
  {
   "cell_type": "code",
   "execution_count": 1,
   "metadata": {
    "collapsed": false
   },
   "outputs": [
    {
     "ename": "NameError",
     "evalue": "name 'df1' is not defined",
     "output_type": "error",
     "traceback": [
      "\u001b[0;31m---------------------------------------------------------------------------\u001b[0m",
      "\u001b[0;31mNameError\u001b[0m                                 Traceback (most recent call last)",
      "\u001b[0;32m<ipython-input-1-00bbbe11d446>\u001b[0m in \u001b[0;36m<module>\u001b[0;34m()\u001b[0m\n\u001b[1;32m      1\u001b[0m \u001b[0;31m# get one row or one cell by index\u001b[0m\u001b[0;34m\u001b[0m\u001b[0;34m\u001b[0m\u001b[0m\n\u001b[0;32m----> 2\u001b[0;31m \u001b[0;32mprint\u001b[0m \u001b[0mdf1\u001b[0m\u001b[0;34m.\u001b[0m\u001b[0miloc\u001b[0m\u001b[0;34m[\u001b[0m\u001b[0;36m0\u001b[0m\u001b[0;34m]\u001b[0m\u001b[0;34m\u001b[0m\u001b[0m\n\u001b[0m\u001b[1;32m      3\u001b[0m \u001b[0;32mprint\u001b[0m \u001b[0mdf1\u001b[0m\u001b[0;34m[\u001b[0m\u001b[0;34m'column1'\u001b[0m\u001b[0;34m]\u001b[0m\u001b[0;34m.\u001b[0m\u001b[0miloc\u001b[0m\u001b[0;34m[\u001b[0m\u001b[0;36m0\u001b[0m\u001b[0;34m]\u001b[0m\u001b[0;34m\u001b[0m\u001b[0m\n\u001b[1;32m      4\u001b[0m \u001b[0;34m\u001b[0m\u001b[0m\n\u001b[1;32m      5\u001b[0m \u001b[0;31m# explore frame\u001b[0m\u001b[0;34m\u001b[0m\u001b[0;34m\u001b[0m\u001b[0m\n",
      "\u001b[0;31mNameError\u001b[0m: name 'df1' is not defined"
     ]
    }
   ],
   "source": [
    "#head and tail\n",
    "df.head(2)\n",
    "df.tail(2)\n",
    "\n",
    "\n",
    "#column names as list\n",
    "df.columns.values.tolist()\n",
    "\n",
    "# get one row or one cell by index\n",
    "print df1.iloc[0]\n",
    "print df1['column1'].iloc[0]\n",
    "\n",
    "# explore frame\n",
    "df1.describe()\n",
    "\n",
    "# how many nulls in column\n",
    "len(df1[pd.isnull(df1['tid'])])\n",
    "len(df1[pd.notnull(df1['tid'])])\n",
    "\n",
    "\n",
    "#Counting\n",
    "df['col1'].value_counts()\n",
    "\n",
    "#Bincount http://pandas.pydata.org/pandas-docs/stable/generated/pandas.cut.html\n",
    "df['col1'].value_counts(bins=3)\n",
    "pd.cut(df['col1'], bins=4)\n",
    "\n",
    "\n",
    "#Counting unique values\n",
    "len(df['col1'].unique())"
   ]
  },
  {
   "cell_type": "markdown",
   "metadata": {},
   "source": [
    "##3. Wrangling"
   ]
  },
  {
   "cell_type": "code",
   "execution_count": null,
   "metadata": {
    "collapsed": true
   },
   "outputs": [],
   "source": [
    "#faceting dataframe\n",
    "tiniDf = df[['col1', 'col4', 'col10']]"
   ]
  },
  {
   "cell_type": "markdown",
   "metadata": {},
   "source": [
    "#####[Concatenate df](http://pandas.pydata.org/pandas-docs/stable/generated/pandas.concat.html)"
   ]
  },
  {
   "cell_type": "code",
   "execution_count": 1,
   "metadata": {
    "collapsed": false
   },
   "outputs": [
    {
     "ename": "NameError",
     "evalue": "name 'pandas' is not defined",
     "output_type": "error",
     "traceback": [
      "\u001b[0;31m---------------------------------------------------------------------------\u001b[0m",
      "\u001b[0;31mNameError\u001b[0m                                 Traceback (most recent call last)",
      "\u001b[0;32m<ipython-input-1-aaa5c166c095>\u001b[0m in \u001b[0;36m<module>\u001b[0;34m()\u001b[0m\n\u001b[0;32m----> 1\u001b[0;31m pandas.concat(objs, axis=0, join='outer', join_axes=None, ignore_index=False, \n\u001b[0m\u001b[1;32m      2\u001b[0m               keys=None, levels=None, names=None, verify_integrity=False, copy=True)\n",
      "\u001b[0;31mNameError\u001b[0m: name 'pandas' is not defined"
     ]
    }
   ],
   "source": [
    "newDf = pd.concat(df1, df2, axis=0, join='outer', join_axes=None, ignore_index=False, \n",
    "              keys=None, levels=None, names=None, verify_integrity=False, copy=True)\n",
    "\n",
    "df1.concat(df2, axis=0)"
   ]
  },
  {
   "cell_type": "code",
   "execution_count": null,
   "metadata": {
    "collapsed": true
   },
   "outputs": [],
   "source": [
    "#merging dataframes db-style  | on = 'left', 'right', 'outer', 'inner'.\n",
    "newDf = pd.merge(left, right, how='inner', on=None, left_on=None, right_on=None, \n",
    "              left_index=False, right_index=False, sort=True,\n",
    "              suffixes=('_x', '_y'), copy=True)\n",
    "\n",
    "df1.merge(df2, axis=0)"
   ]
  },
  {
   "cell_type": "code",
   "execution_count": null,
   "metadata": {
    "collapsed": true
   },
   "outputs": [],
   "source": [
    "#remove dublicates\n",
    "df.drop_duplicates('col1')\n",
    "df.drop_duplicates()  #search for all rows"
   ]
  }
 ],
 "metadata": {
  "kernelspec": {
   "display_name": "Python 2",
   "language": "python",
   "name": "python2"
  },
  "language_info": {
   "codemirror_mode": {
    "name": "ipython",
    "version": 2
   },
   "file_extension": ".py",
   "mimetype": "text/x-python",
   "name": "python",
   "nbconvert_exporter": "python",
   "pygments_lexer": "ipython2",
   "version": "2.7.9"
  }
 },
 "nbformat": 4,
 "nbformat_minor": 0
}
